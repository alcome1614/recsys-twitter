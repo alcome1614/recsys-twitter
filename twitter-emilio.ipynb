{
 "cells": [
  {
   "cell_type": "code",
   "execution_count": 35,
   "metadata": {},
   "outputs": [],
   "source": [
    "import numpy as np\n",
    "import pandas as pd\n",
    "import matplotlib.pyplot as plt\n",
    "%matplotlib inline"
   ]
  },
  {
   "cell_type": "code",
   "execution_count": 2,
   "metadata": {},
   "outputs": [],
   "source": [
    "#function that prints some general stats of a dataframe\n",
    "def print_stats_df(df, name=''):\n",
    "    n_tweets = len(df)\n",
    "    print('GENERAL STATS '+name)\n",
    "    print('number of tweets:', n_tweets)\n",
    "    print('number of unique media:', df['present_media'].nunique() )\n",
    "    print('number of unique language:', df['language'].nunique() )\n",
    "    print('number of unique EWUF users:', df[\"engaged_with_user_id\"].nunique() )\n",
    "    print('number of unique EUF users:', df[\"enaging_user_id\"].nunique() )\n",
    "\n",
    "    labels = [\"reply_timestamp\",\"retweet_timestamp\",\"retweet_with_comment_timestamp\",\"like_timestamp\"]\n",
    "    is_y = all([label in df.columns for label in labels])\n",
    "    if is_y:\n",
    "        print('\\nNUMBER OF ENGAGEMENTS '+name)\n",
    "        print('number of replies:',n_tweets - df['reply_timestamp'].isna().sum(), (n_tweets - df['reply_timestamp'].isna().sum())/n_tweets)\n",
    "        print('number of retweets:', n_tweets - df['retweet_timestamp'].isna().sum(), (n_tweets - df['retweet_timestamp'].isna().sum() )/n_tweets )\n",
    "        print('number of retweet comments:',n_tweets - df[\"retweet_with_comment_timestamp\"].isna().sum(), (n_tweets - df[\"retweet_with_comment_timestamp\"].isna().sum())/n_tweets)\n",
    "        print('number of likes',n_tweets - df['like_timestamp'].isna().sum(), (n_tweets - df['like_timestamp'].isna().sum())/n_tweets)\n",
    "    print('------------------------------------------------------------')  \n",
    "    print()    \n"
   ]
  },
  {
   "cell_type": "code",
   "execution_count": 165,
   "metadata": {},
   "outputs": [],
   "source": [
    "from sklearn.preprocessing import StandardScaler\n",
    "import re\n",
    "\n",
    "\n",
    "def following_class_group(df, group_column, follow_column, outlier, bins_count=5):\n",
    "    grouped = df.groupby([group_column]).agg({follow_column: \"mean\"})\n",
    "    if outlier:\n",
    "        filtered = grouped[grouped[follow_column]<outlier]\n",
    "    else:\n",
    "        filtered = grouped\n",
    "    hist, bins = np.histogram(filtered[follow_column], bins=bins_count)\n",
    "    return bins\n",
    "\n",
    "def set_follow_grouop(df, follow_column, bins): \n",
    "    values = df[follow_column]       \n",
    "    columns = []\n",
    "    for i in range(len(bins)-1):\n",
    "        f = bins[i]\n",
    "        t = bins[i+1]\n",
    "        column_name = \"{}_bin_{}\".format(follow_column, i)\n",
    "        df[column_name] = np.where((f<=values) & (values<t), 1 ,0 )\n",
    "        columns.append(column_name)\n",
    "        \n",
    "        \n",
    "class TwitterTransform:\n",
    "    \"\"\"takes a df and cleans it to be used as input of a model in matrix form\"\"\"\n",
    "    \n",
    "    def __init__(self, lang_tol=0):\n",
    "\n",
    "        self.ss = StandardScaler()\n",
    "        self.lang_tol = lang_tol\n",
    "        self.list_languages = []\n",
    "        self.selection_to_standarize = [\"engaged_with_user_follower_count\",\"engaged_with_user_following_count\",\n",
    "                                        \"enaging_user_follower_count\", \"enaging_user_following_count\"]\n",
    "        self.selection_to_boolean = [\"engaged_with_user_is_verified\", \"enaging_user_is_verified\", \n",
    "                                     \"engagee_follows_engager\"]\n",
    "        self.tweet_types =  ['Retweet', 'Quote', 'Reply', 'Toplevel']\n",
    "        self.labels = [\"reply_timestamp\",\"retweet_timestamp\",\"retweet_with_comment_timestamp\",\"like_timestamp\"]\n",
    "        self.bins_count = 10\n",
    "        self.follow_class = [\n",
    "            {\n",
    "                \"group_column\":\"engaged_with_user_id\",\n",
    "                \"follow_column\":\"engaged_with_user_follower_count\",\n",
    "                \"outlier\":1e6\n",
    "            },\n",
    "            {\n",
    "                \"group_column\":\"engaged_with_user_id\",\n",
    "                \"follow_column\":\"engaged_with_user_following_count\",\n",
    "                \"outlier\":1e4\n",
    "            },\n",
    "            {\n",
    "                \"group_column\":\"enaging_user_id\",\n",
    "                \"follow_column\":\"enaging_user_following_count\",\n",
    "                \"outlier\":8e3\n",
    "            },\n",
    "            {\n",
    "                \"group_column\":\"enaging_user_id\",\n",
    "                \"follow_column\":\"enaging_user_follower_count\",\n",
    "                \"outlier\":1e4\n",
    "            }\n",
    "            \n",
    "        ]\n",
    "          \n",
    "    def fit(self, df):\n",
    "        ##X\n",
    "        #STANDARIZATION OF FOLLOWERS COUNTS(fit)\n",
    "        self.ss.fit(df[self.selection_to_standarize])\n",
    "        \n",
    "        #Create lisf of languages\n",
    "        language_series = df.language.value_counts()/len(df)\n",
    "        self.list_languages = language_series[language_series > self.lang_tol].tolist()\n",
    "        #FOLLOW CLASS\n",
    "        self.follows_bins = {}\n",
    "        \n",
    "        for params in self.follow_class:\n",
    "            params[\"bins_count\"] = self.bins_count\n",
    "            self.follows_bins[params[\"follow_column\"]] = following_class_group(df, **params)\n",
    "        \n",
    "    def transform(self,df):\n",
    "        #STANDARIZATION OF FOLLOWERS COUNTS(transform)\n",
    "        x = df[self.selection_to_standarize]\n",
    "        x_cols = x.columns\n",
    "        x = pd.DataFrame(data = self.ss.transform(x), columns = x_cols)\n",
    "               \n",
    "        #OneHot encoding of Languages\n",
    "        for lang in self.list_languages:\n",
    "            x[lang] = df['language'].apply(lambda x: 1 if (x==lang) else 0)\n",
    "        \n",
    "        #OneHot encoding tweet_type\n",
    "        for types in self.tweet_types:\n",
    "            x[types] = df['tweet_type'].apply(lambda x: 1 if (x==types) else 0) \n",
    "#         x = pd.concat([x, pd.get_dummies(df['tweet_type'])], axis=1)\n",
    "                \n",
    "        #OneHot encoding present_media\n",
    "        x['present_media'] = df['present_media'].apply(lambda x: re.split('\\t', x)  if (type(x)==str) else [] )\n",
    "        for media in ['Photo','Video','GIF']:\n",
    "            x[media] =  x.present_media.apply(lambda x:  1 if (media  in x) else 0)\n",
    "        x = x.drop('present_media', axis=1)\n",
    "                   \n",
    "        #(True/False)Boolean to (1/0)Boolean\n",
    "        x = pd.concat( [ x, df[self.selection_to_boolean].astype(int)], axis=1 )\n",
    "  \n",
    "        #FOLLOW CLASS\n",
    "        for follow_column, bins in self.follows_bins.items():\n",
    "            set_follow_grouop(x, follow_column, bins)\n",
    "            \n",
    "        #NUMBER/NaN or BOOLEAN TO INTEGER BOOLEAN(1/0) \n",
    "        is_y = all([label in df.columns for label in self.labels])\n",
    "        \n",
    "        if is_y:\n",
    "            y = df[self.labels].notna().astype(int)\n",
    "            return x.values, y.values\n",
    "        else:\n",
    "            return x.values\n",
    "        \n",
    "                                          \n",
    "                                \n",
    "                                          \n",
    "                                        "
   ]
  },
  {
   "cell_type": "code",
   "execution_count": 4,
   "metadata": {},
   "outputs": [],
   "source": [
    "from sklearn.metrics import precision_recall_curve, auc, log_loss\n",
    "\n",
    "def compute_prauc(pred, gt):\n",
    "    prec, recall, thresh = precision_recall_curve(gt, pred)\n",
    "    prauc = auc(recall, prec)\n",
    "    return prauc\n",
    "\n",
    "def calculate_ctr(gt):\n",
    "    positive = len([x for x in gt if x == 1])\n",
    "    ctr = positive/float(len(gt))\n",
    "    return ctr\n",
    "\n",
    "def compute_rce(pred, gt):\n",
    "    cross_entropy = log_loss(gt, pred)\n",
    "    data_ctr = calculate_ctr(gt)\n",
    "    strawman_cross_entropy = log_loss(gt, [data_ctr for _ in range(len(gt))])\n",
    "    return (1.0 - cross_entropy/strawman_cross_entropy)*100.0\n"
   ]
  },
  {
   "cell_type": "code",
   "execution_count": 5,
   "metadata": {},
   "outputs": [],
   "source": [
    "from sklearn.metrics import accuracy_score, balanced_accuracy_score, f1_score, roc_auc_score, log_loss\n",
    "from xgboost import XGBClassifier\n",
    "\n",
    "def model_scores(x_train, y_train, x_test, y_test, model='default'):\n",
    "#     list = ['replay','retweet', 'retweet_comment', 'like']\n",
    "\n",
    "    if model=='default':\n",
    "        model = XGBClassifier()\n",
    "    model.fit(x_train,y_train)\n",
    "\n",
    "    ytrue = y_train\n",
    "    ypred = model.predict(x_train)\n",
    "    train = [log_loss(ytrue, ypred), roc_auc_score(ytrue, ypred)]\n",
    "    train = np.array(train)\n",
    " \n",
    "    ytrue = y_test\n",
    "    ypred = model.predict(x_test)\n",
    "    test = [log_loss(ytrue, ypred), roc_auc_score(ytrue, ypred)]\n",
    "    test = np.array(test)\n",
    " \n",
    "    return train, test\n",
    "#     print('\\n'.join([' '.join([name[:5]]+['{:.4f}'.format(score) for score in engage]) for engage,name in zip(train,engagement_list)]))\n",
    "\n",
    "\n",
    "def print_scores(matrix, name='METRICS'):\n",
    "    engagement_list = ['replay      ','retweet      ', 'retweet_comment     ', 'like      ']\n",
    "    score_list = ['log_loss', 'roc_auc']\n",
    "    print(name+' log_loss   roc_auc')\n",
    "    print('\\n'.join([' '.join([name[:10]]+['{:.4f}'.format(score) for score in engage]) for engage,name in zip(matrix,engagement_list)]))\n",
    "    print()\n",
    "    return"
   ]
  },
  {
   "cell_type": "code",
   "execution_count": 159,
   "metadata": {},
   "outputs": [
    {
     "name": "stdout",
     "output_type": "stream",
     "text": [
      "number of tweets: 1000000\n"
     ]
    },
    {
     "data": {
      "text/html": [
       "<div>\n",
       "<style scoped>\n",
       "    .dataframe tbody tr th:only-of-type {\n",
       "        vertical-align: middle;\n",
       "    }\n",
       "\n",
       "    .dataframe tbody tr th {\n",
       "        vertical-align: top;\n",
       "    }\n",
       "\n",
       "    .dataframe thead th {\n",
       "        text-align: right;\n",
       "    }\n",
       "</style>\n",
       "<table border=\"1\" class=\"dataframe\">\n",
       "  <thead>\n",
       "    <tr style=\"text-align: right;\">\n",
       "      <th></th>\n",
       "      <th>text_ tokens</th>\n",
       "      <th>hashtags</th>\n",
       "      <th>tweet_id</th>\n",
       "      <th>present_media</th>\n",
       "      <th>present_links</th>\n",
       "      <th>present_domains</th>\n",
       "      <th>tweet_type</th>\n",
       "      <th>language</th>\n",
       "      <th>tweet_timestamp</th>\n",
       "      <th>engaged_with_user_id</th>\n",
       "      <th>...</th>\n",
       "      <th>enaging_user_id</th>\n",
       "      <th>enaging_user_follower_count</th>\n",
       "      <th>enaging_user_following_count</th>\n",
       "      <th>enaging_user_is_verified</th>\n",
       "      <th>enaging_user_account_creation</th>\n",
       "      <th>engagee_follows_engager</th>\n",
       "      <th>reply_timestamp</th>\n",
       "      <th>retweet_timestamp</th>\n",
       "      <th>retweet_with_comment_timestamp</th>\n",
       "      <th>like_timestamp</th>\n",
       "    </tr>\n",
       "  </thead>\n",
       "  <tbody>\n",
       "    <tr>\n",
       "      <td>0</td>\n",
       "      <td>101\\t16493\\t12478\\t117\\t10105\\t42370\\t76299\\t1...</td>\n",
       "      <td>NaN</td>\n",
       "      <td>39024FBE0136E046D1357196BAECFCA6</td>\n",
       "      <td>GIF</td>\n",
       "      <td>NaN</td>\n",
       "      <td>NaN</td>\n",
       "      <td>TopLevel</td>\n",
       "      <td>D3164C7FBCF2565DDF915B1B3AEFB1DC</td>\n",
       "      <td>2020-02-12 19:30:00</td>\n",
       "      <td>3BF0702AA3337E076DA5DF54E55117D1</td>\n",
       "      <td>...</td>\n",
       "      <td>000006829BEADA9EEA695CF0C334B426</td>\n",
       "      <td>2</td>\n",
       "      <td>29</td>\n",
       "      <td>False</td>\n",
       "      <td>2019-09-10 11:17:08</td>\n",
       "      <td>False</td>\n",
       "      <td>NaT</td>\n",
       "      <td>NaT</td>\n",
       "      <td>NaT</td>\n",
       "      <td>NaT</td>\n",
       "    </tr>\n",
       "    <tr>\n",
       "      <td>1</td>\n",
       "      <td>101\\t56898\\t137\\t186\\t10457\\t97575\\t11373\\t111...</td>\n",
       "      <td>NaN</td>\n",
       "      <td>4AE544DF8E20622635B87B6E2B8B6D2A</td>\n",
       "      <td>NaN</td>\n",
       "      <td>NaN</td>\n",
       "      <td>NaN</td>\n",
       "      <td>Retweet</td>\n",
       "      <td>ECED8A16BE2A5E8871FD55F4842F16B1</td>\n",
       "      <td>2020-02-06 16:15:24</td>\n",
       "      <td>46E6134373F19D742F24D6E72FC74360</td>\n",
       "      <td>...</td>\n",
       "      <td>00000860E80C67D8C46CE57C64DE9444</td>\n",
       "      <td>225</td>\n",
       "      <td>185</td>\n",
       "      <td>False</td>\n",
       "      <td>2018-10-31 20:13:00</td>\n",
       "      <td>True</td>\n",
       "      <td>NaT</td>\n",
       "      <td>NaT</td>\n",
       "      <td>NaT</td>\n",
       "      <td>2020-02-06 18:08:39</td>\n",
       "    </tr>\n",
       "    <tr>\n",
       "      <td>2</td>\n",
       "      <td>101\\t56898\\t137\\t37390\\t92306\\t19403\\t11205\\t1...</td>\n",
       "      <td>NaN</td>\n",
       "      <td>87B10ACCFDB6603A63D1548754710328</td>\n",
       "      <td>Video</td>\n",
       "      <td>NaN</td>\n",
       "      <td>NaN</td>\n",
       "      <td>Retweet</td>\n",
       "      <td>E59EF8BB86A6D815331DDF4C467CE0C7</td>\n",
       "      <td>2020-02-09 17:00:14</td>\n",
       "      <td>DBCFEFD4018E2E89CC84C42F93F873DC</td>\n",
       "      <td>...</td>\n",
       "      <td>00000860E80C67D8C46CE57C64DE9444</td>\n",
       "      <td>222</td>\n",
       "      <td>183</td>\n",
       "      <td>False</td>\n",
       "      <td>2018-10-31 20:13:00</td>\n",
       "      <td>True</td>\n",
       "      <td>NaT</td>\n",
       "      <td>NaT</td>\n",
       "      <td>NaT</td>\n",
       "      <td>NaT</td>\n",
       "    </tr>\n",
       "    <tr>\n",
       "      <td>3</td>\n",
       "      <td>101\\t56898\\t137\\t45010\\t66148\\t10738\\t10976\\t1...</td>\n",
       "      <td>NaN</td>\n",
       "      <td>C0E81676727D9589555541E13A6D6F8D</td>\n",
       "      <td>Photo</td>\n",
       "      <td>NaN</td>\n",
       "      <td>NaN</td>\n",
       "      <td>Retweet</td>\n",
       "      <td>D3164C7FBCF2565DDF915B1B3AEFB1DC</td>\n",
       "      <td>2020-02-09 23:07:03</td>\n",
       "      <td>723A5C02BA1B2EDFAE0B271DF18EBEC0</td>\n",
       "      <td>...</td>\n",
       "      <td>00000A49BC40B7321B45055AC371D4E1</td>\n",
       "      <td>179</td>\n",
       "      <td>237</td>\n",
       "      <td>False</td>\n",
       "      <td>2015-06-12 05:15:31</td>\n",
       "      <td>False</td>\n",
       "      <td>NaT</td>\n",
       "      <td>NaT</td>\n",
       "      <td>NaT</td>\n",
       "      <td>NaT</td>\n",
       "    </tr>\n",
       "    <tr>\n",
       "      <td>4</td>\n",
       "      <td>101\\t56898\\t137\\t139\\t11447\\t168\\t168\\t12078\\t...</td>\n",
       "      <td>NaN</td>\n",
       "      <td>F4DA426E8C8EF7846D1FF89472BC28D2</td>\n",
       "      <td>Video</td>\n",
       "      <td>NaN</td>\n",
       "      <td>NaN</td>\n",
       "      <td>Retweet</td>\n",
       "      <td>125C57F4FA6D4E110983FB11B52EFD4E</td>\n",
       "      <td>2020-02-11 15:26:36</td>\n",
       "      <td>7A692CA6D7A76EDA2BA83FB6AD28B44D</td>\n",
       "      <td>...</td>\n",
       "      <td>00000B44A4956EA5D920FCD1C8A1A26E</td>\n",
       "      <td>56</td>\n",
       "      <td>108</td>\n",
       "      <td>False</td>\n",
       "      <td>2019-07-18 11:24:28</td>\n",
       "      <td>True</td>\n",
       "      <td>NaT</td>\n",
       "      <td>2020-02-11 15:29:08</td>\n",
       "      <td>NaT</td>\n",
       "      <td>NaT</td>\n",
       "    </tr>\n",
       "  </tbody>\n",
       "</table>\n",
       "<p>5 rows × 24 columns</p>\n",
       "</div>"
      ],
      "text/plain": [
       "                                        text_ tokens hashtags  \\\n",
       "0  101\\t16493\\t12478\\t117\\t10105\\t42370\\t76299\\t1...      NaN   \n",
       "1  101\\t56898\\t137\\t186\\t10457\\t97575\\t11373\\t111...      NaN   \n",
       "2  101\\t56898\\t137\\t37390\\t92306\\t19403\\t11205\\t1...      NaN   \n",
       "3  101\\t56898\\t137\\t45010\\t66148\\t10738\\t10976\\t1...      NaN   \n",
       "4  101\\t56898\\t137\\t139\\t11447\\t168\\t168\\t12078\\t...      NaN   \n",
       "\n",
       "                           tweet_id present_media present_links  \\\n",
       "0  39024FBE0136E046D1357196BAECFCA6           GIF           NaN   \n",
       "1  4AE544DF8E20622635B87B6E2B8B6D2A           NaN           NaN   \n",
       "2  87B10ACCFDB6603A63D1548754710328         Video           NaN   \n",
       "3  C0E81676727D9589555541E13A6D6F8D         Photo           NaN   \n",
       "4  F4DA426E8C8EF7846D1FF89472BC28D2         Video           NaN   \n",
       "\n",
       "  present_domains tweet_type                          language  \\\n",
       "0             NaN   TopLevel  D3164C7FBCF2565DDF915B1B3AEFB1DC   \n",
       "1             NaN    Retweet  ECED8A16BE2A5E8871FD55F4842F16B1   \n",
       "2             NaN    Retweet  E59EF8BB86A6D815331DDF4C467CE0C7   \n",
       "3             NaN    Retweet  D3164C7FBCF2565DDF915B1B3AEFB1DC   \n",
       "4             NaN    Retweet  125C57F4FA6D4E110983FB11B52EFD4E   \n",
       "\n",
       "      tweet_timestamp              engaged_with_user_id  ...  \\\n",
       "0 2020-02-12 19:30:00  3BF0702AA3337E076DA5DF54E55117D1  ...   \n",
       "1 2020-02-06 16:15:24  46E6134373F19D742F24D6E72FC74360  ...   \n",
       "2 2020-02-09 17:00:14  DBCFEFD4018E2E89CC84C42F93F873DC  ...   \n",
       "3 2020-02-09 23:07:03  723A5C02BA1B2EDFAE0B271DF18EBEC0  ...   \n",
       "4 2020-02-11 15:26:36  7A692CA6D7A76EDA2BA83FB6AD28B44D  ...   \n",
       "\n",
       "                    enaging_user_id  enaging_user_follower_count  \\\n",
       "0  000006829BEADA9EEA695CF0C334B426                            2   \n",
       "1  00000860E80C67D8C46CE57C64DE9444                          225   \n",
       "2  00000860E80C67D8C46CE57C64DE9444                          222   \n",
       "3  00000A49BC40B7321B45055AC371D4E1                          179   \n",
       "4  00000B44A4956EA5D920FCD1C8A1A26E                           56   \n",
       "\n",
       "   enaging_user_following_count enaging_user_is_verified  \\\n",
       "0                            29                    False   \n",
       "1                           185                    False   \n",
       "2                           183                    False   \n",
       "3                           237                    False   \n",
       "4                           108                    False   \n",
       "\n",
       "  enaging_user_account_creation  engagee_follows_engager  reply_timestamp  \\\n",
       "0           2019-09-10 11:17:08                    False              NaT   \n",
       "1           2018-10-31 20:13:00                     True              NaT   \n",
       "2           2018-10-31 20:13:00                     True              NaT   \n",
       "3           2015-06-12 05:15:31                    False              NaT   \n",
       "4           2019-07-18 11:24:28                     True              NaT   \n",
       "\n",
       "    retweet_timestamp retweet_with_comment_timestamp      like_timestamp  \n",
       "0                 NaT                            NaT                 NaT  \n",
       "1                 NaT                            NaT 2020-02-06 18:08:39  \n",
       "2                 NaT                            NaT                 NaT  \n",
       "3                 NaT                            NaT                 NaT  \n",
       "4 2020-02-11 15:29:08                            NaT                 NaT  \n",
       "\n",
       "[5 rows x 24 columns]"
      ]
     },
     "execution_count": 159,
     "metadata": {},
     "output_type": "execute_result"
    }
   ],
   "source": [
    "df_og = pd.read_pickle('train_0.pkl')\n",
    "df_og.columns =[\"text_ tokens\", \"hashtags\", \"tweet_id\", \"present_media\", \"present_links\", \"present_domains\",\n",
    "                \"tweet_type\",\"language\", \"tweet_timestamp\", \"engaged_with_user_id\", \"engaged_with_user_follower_count\",\n",
    "               \"engaged_with_user_following_count\", \"engaged_with_user_is_verified\", \"engaged_with_user_account_creation\",\n",
    "               \"enaging_user_id\", \"enaging_user_follower_count\", \"enaging_user_following_count\", \"enaging_user_is_verified\",\n",
    "               \"enaging_user_account_creation\", \"engagee_follows_engager\",\"reply_timestamp\",\"retweet_timestamp\",\"retweet_with_comment_timestamp\",\"like_timestamp\"]\n",
    "\n",
    "print('number of tweets:', len(df_og))\n",
    "\n",
    "\n",
    "df_og.head()"
   ]
  },
  {
   "cell_type": "code",
   "execution_count": 160,
   "metadata": {},
   "outputs": [],
   "source": [
    "#df_val = pd.read_pickle('val_1.pkl')\n",
    "#df_val.head()"
   ]
  },
  {
   "cell_type": "code",
   "execution_count": 167,
   "metadata": {},
   "outputs": [
    {
     "data": {
      "text/plain": [
       "((1000000, 115), (1000000, 4))"
      ]
     },
     "execution_count": 167,
     "metadata": {},
     "output_type": "execute_result"
    }
   ],
   "source": [
    "tt = TwitterTransform()\n",
    "tt.fit(df_og)\n",
    "tt.list_languages\n",
    "x_train,y_train = tt.transform(df_og)\n",
    "#x_val = tt.transform(df_val)\n",
    "\n",
    "x_train.shape, y_train.shape"
   ]
  },
  {
   "cell_type": "code",
   "execution_count": null,
   "metadata": {},
   "outputs": [],
   "source": [
    "# df_train = select_features(df_og)\n",
    "\n",
    "# df_val = select_features(pd.read_pickle('val_1.pkl'), with_labels=False)\n",
    "\n",
    "# training = pd.read_pickle('training_1e6_0.pkl')\n",
    "# training.columns = df_og.columns\n",
    "# training = select_features(training)\n",
    "\n",
    "#validation =  pd.read_pickle('validation_1e5_0.pkl')\n",
    "# validation.columns = df_og.columns\n",
    "# validation = select_features(validation)\n",
    "\n",
    "df_train = df_og\n",
    "df_val = pd.read_pickle('val_1.pkl')\n",
    "df_train = pd.read_pickle('train_1.pkl')\n",
    "\n",
    "df_train.shape, df_val.shape, validation.shape"
   ]
  },
  {
   "cell_type": "code",
   "execution_count": null,
   "metadata": {},
   "outputs": [],
   "source": [
    "df_train[:int(1e6)].shape"
   ]
  },
  {
   "cell_type": "code",
   "execution_count": null,
   "metadata": {},
   "outputs": [],
   "source": [
    "print_stats_df(df_train, name='Train')\n",
    "print_stats_df(df_val, name='Validation')"
   ]
  },
  {
   "cell_type": "markdown",
   "metadata": {},
   "source": [
    " Imbalance treatment for retweets+comments and replies"
   ]
  },
  {
   "cell_type": "code",
   "execution_count": 64,
   "metadata": {},
   "outputs": [
    {
     "name": "stdout",
     "output_type": "stream",
     "text": [
      "(reply)+(retweet) #coincidences:2391\n",
      "(reply)+(retweet_with_comment) #coincidences:350\n",
      "(reply)+(like) #coincidences:10521\n",
      "(retweet)+(retweet_with_comment) #coincidences:7750\n",
      "(retweet)+(like) #coincidences:57395\n",
      "(retweet_with_comment)+(like) #coincidences:3158\n",
      "total bicoincidences: 81565\n"
     ]
    }
   ],
   "source": [
    "engage = ['reply','retweet', 'retweet_with_comment', 'like']\n",
    "added = '_timestamp'\n",
    "tot_bicoins = 0\n",
    "for i in range(3):\n",
    "    for j in range(i+1,4):\n",
    "        string = '({})+({}) #coincidences:{}'\n",
    "        coins = df_train[ df_train[engage[i]+added].notna() & df_train[engage[j]+added].notna()].shape[0]\n",
    "        tot_bicoins = tot_bicoins + coins\n",
    "        print( string.format(engage[i], engage[j], coins))\n",
    "        \n",
    "print('total bicoincidences:', tot_bicoins)\n"
   ]
  },
  {
   "cell_type": "code",
   "execution_count": 93,
   "metadata": {},
   "outputs": [
    {
     "name": "stdout",
     "output_type": "stream",
     "text": [
      "11\n",
      "0 reply  MODEL: RUSBoostClassifier(algorithm='SAMME.R', base_estimator=None, learning_rate=1.0,\n",
      "                   n_estimators=50, random_state=None, replacement=False,\n",
      "                   sampling_strategy='auto')  Preprocessing: \n",
      "1 rt  MODEL:   Preprocessing: \n",
      "2 rt+comment  MODEL: RUSBoostClassifier(algorithm='SAMME.R', base_estimator=None, learning_rate=1.0,\n",
      "                   n_estimators=50, random_state=None, replacement=False,\n",
      "                   sampling_strategy='auto')  Preprocessing: \n",
      "3 like  MODEL:   Preprocessing: \n"
     ]
    },
    {
     "data": {
      "text/plain": [
       "'SUBMISSION READY TO UPLOAD'"
      ]
     },
     "execution_count": 93,
     "metadata": {},
     "output_type": "execute_result"
    }
   ],
   "source": [
    "from imblearn.under_sampling import RandomUnderSampler\n",
    "from imblearn.ensemble import RUSBoostClassifier,BalancedRandomForestClassifier,EasyEnsembleClassifier\n",
    "\n",
    "\n",
    "def submission(df_train, df_val):\n",
    "    df_submission = df_val[['tweet_id','enaging_user_id']]\n",
    "#     df_submission = df_val[['tweet_id','engaged_with_user_id']]\n",
    "    df_submission = df_submission.set_index('tweet_id')\n",
    "    \n",
    "    \n",
    "    tt = TwitterTransform()\n",
    "    tt.fit(df_train)\n",
    "    x_train,y_train = tt.transform(df_train)\n",
    "    x_val = tt.transform(df_val)\n",
    "    \n",
    "    \n",
    "    eng_list = ['reply','rt','rt+comment','like']\n",
    "    model_list = [RUSBoostClassifier(),'',RUSBoostClassifier(),'']\n",
    "    prep_list = ['']*4\n",
    "#     model_list = [RUSBoostClassifier()]*4\n",
    "    \n",
    "    for i,eng,prep,model in zip(range(4),eng_list,prep_list,model_list):\n",
    "        print(i,eng,' MODEL:',model,' Preprocessing:',prep)\n",
    "        df_submission['prediction'] =  give_result(x_train, y_train[:,i], x_val, preprocessing=prep, model=model)\n",
    "        \n",
    "        df_submission.to_csv('submissions/'+eng+'.csv', header=False)\n",
    "    \n",
    "\n",
    "    return 'SUBMISSION READY TO UPLOAD'\n",
    "\n",
    "from xgboost import XGBClassifier\n",
    "\n",
    "def give_result(x_train, y_train, x_val, preprocessing='default', model='default'):\n",
    "    if type(model)== str or model==0:\n",
    "        model = XGBClassifier()\n",
    "        \n",
    "    if type(preprocessing)!= str:\n",
    "        x_train,y_train = preprocessing.fit_resample(x_train,y_train)\n",
    "    \n",
    "    model.fit(x_train,y_train)\n",
    "    y_pred = model.predict(x_val)\n",
    "\n",
    "    return y_pred\n",
    "\n",
    "\n",
    "submission(df_train[:int(1e6)], df_val[:int(1e5)])"
   ]
  },
  {
   "attachments": {
    "image.png": {
     "image/png": "[encoded data removed]"
    }
   },
   "cell_type": "markdown",
   "metadata": {},
   "source": [
    "![image.png](attachment:image.png)"
   ]
  },
  {
   "attachments": {
    "image.png": {
     "image/png": "[encoded data removed]"
    }
   },
   "cell_type": "markdown",
   "metadata": {},
   "source": [
    "1.     model_list = [RUSBoostClassifier(),'',RUSBoostClassifier(),'']\n",
    "\n",
    "2. prep_list = ['']*4\n",
    "\n",
    "![image.png](attachment:image.png)\n",
    "    \n",
    "    "
   ]
  },
  {
   "attachments": {
    "image.png": {
     "image/png": "[encoded data removed]"
    }
   },
   "cell_type": "markdown",
   "metadata": {},
   "source": [
    "1. model_list = [RUSBoostClassifier(),'',RUSBoostClassifier(),'']\n",
    "\n",
    "2. prep_list = ['']*4\n",
    "\n",
    "3. train 1e6, val 1e5\n",
    "\n",
    "![image.png](attachment:image.png)\n"
   ]
  },
  {
   "cell_type": "markdown",
   "metadata": {},
   "source": [
    "1. model_list = [RUSBoostClassifier(),'',RUSBoostClassifier(),'']\n",
    "\n",
    "2. prep_list = ['']*4\n",
    "\n",
    "3. train 1e6, val 1e5\n",
    "\n",
    "4. using 'engaged_with_user_id' IT DOESNT FUCKING GO AS EXPECTED INITIALLY. NICE\n",
    "\n"
   ]
  },
  {
   "cell_type": "code",
   "execution_count": 12,
   "metadata": {},
   "outputs": [],
   "source": [
    "train = {}\n",
    "for i in range(4):\n",
    "    train[i] = pd.read_pickle('train_{}.pkl'.format(i))"
   ]
  },
  {
   "cell_type": "code",
   "execution_count": 13,
   "metadata": {},
   "outputs": [
    {
     "data": {
      "text/plain": [
       "{'reply': 0, 'retweet': 1, 'retweet_with_comment': 2, 'like': 3}"
      ]
     },
     "execution_count": 13,
     "metadata": {},
     "output_type": "execute_result"
    }
   ],
   "source": [
    "engagement = {}\n",
    "label_list = ['reply','retweet', 'retweet_with_comment', 'like']\n",
    "\n",
    "for i in range(len(label_list)):\n",
    "    engagement[label_list[i]] = i\n",
    "engagement"
   ]
  },
  {
   "cell_type": "markdown",
   "metadata": {},
   "source": [
    "# TRAIN"
   ]
  },
  {
   "cell_type": "code",
   "execution_count": null,
   "metadata": {},
   "outputs": [
    {
     "name": "stdout",
     "output_type": "stream",
     "text": [
      "reply\n"
     ]
    }
   ],
   "source": [
    "from xgboost import XGBClassifier\n",
    "from sklearn.metrics import roc_auc_score\n",
    "\n",
    "tt = TwitterTransform()\n",
    "tt.fit(df_og)\n",
    "x_train, y_train = tt.transform(df_og)\n",
    "\n",
    "for label in label_list:\n",
    "    print(label)\n",
    "    idx = engagement[label]\n",
    "\n",
    "    xgb = XGBClassifier()\n",
    "    xgb.fit(x_train, y_train[:,idx])\n",
    "\n",
    "    gt = {}\n",
    "    pred = {}\n",
    "    \n",
    "    i=2\n",
    "    x_val,y_val = tt.transform(train[i])\n",
    "    gt[i] = y_val[:,idx]\n",
    "    y_pred = xgb.predict(x_val)\n",
    "#         y_pred = np.zeros(gt[i].shape)\n",
    "    pred[i] = y_pred\n",
    "    prauc = compute_prauc(pred[i], gt[i])\n",
    "    rce = compute_rce(pred[i], gt[i])\n",
    "    roc = roc_auc_score( gt[i],pred[i])\n",
    "    print('{}>>> PRAUC:{:.4f} RCE:{:.4f} ROCAUC:{:.4f}'.format(i,prauc, rce, roc))"
   ]
  },
  {
   "cell_type": "code",
   "execution_count": 19,
   "metadata": {},
   "outputs": [
    {
     "ename": "TypeError",
     "evalue": "fit() got an unexpected keyword argument 'objective'",
     "output_type": "error",
     "traceback": [
      "\u001b[1;31m---------------------------------------------------------------------------\u001b[0m",
      "\u001b[1;31mTypeError\u001b[0m                                 Traceback (most recent call last)",
      "\u001b[1;32m<ipython-input-19-08f30227edd7>\u001b[0m in \u001b[0;36m<module>\u001b[1;34m\u001b[0m\n\u001b[0;32m      9\u001b[0m \u001b[0midx\u001b[0m \u001b[1;33m=\u001b[0m \u001b[0mengagement\u001b[0m\u001b[1;33m[\u001b[0m\u001b[1;34m'like'\u001b[0m\u001b[1;33m]\u001b[0m\u001b[1;33m\u001b[0m\u001b[1;33m\u001b[0m\u001b[0m\n\u001b[0;32m     10\u001b[0m \u001b[0mxgb\u001b[0m \u001b[1;33m=\u001b[0m \u001b[0mXGBClassifier\u001b[0m\u001b[1;33m(\u001b[0m\u001b[1;33m)\u001b[0m\u001b[1;33m\u001b[0m\u001b[1;33m\u001b[0m\u001b[0m\n\u001b[1;32m---> 11\u001b[1;33m \u001b[0mxgb\u001b[0m\u001b[1;33m.\u001b[0m\u001b[0mfit\u001b[0m\u001b[1;33m(\u001b[0m\u001b[0mx_train\u001b[0m\u001b[1;33m,\u001b[0m \u001b[0my_train\u001b[0m\u001b[1;33m[\u001b[0m\u001b[1;33m:\u001b[0m\u001b[1;33m,\u001b[0m\u001b[0midx\u001b[0m\u001b[1;33m]\u001b[0m\u001b[1;33m,\u001b[0m \u001b[0meval_set\u001b[0m\u001b[1;33m=\u001b[0m\u001b[1;33m[\u001b[0m\u001b[1;33m(\u001b[0m\u001b[0mx_val\u001b[0m\u001b[1;33m,\u001b[0m \u001b[0my_val\u001b[0m\u001b[1;33m[\u001b[0m\u001b[1;33m:\u001b[0m\u001b[1;33m,\u001b[0m\u001b[0midx\u001b[0m\u001b[1;33m]\u001b[0m\u001b[1;33m)\u001b[0m\u001b[1;33m]\u001b[0m\u001b[1;33m,\u001b[0m \u001b[0mobjective\u001b[0m\u001b[1;33m=\u001b[0m\u001b[1;34m'binary:logistic'\u001b[0m\u001b[1;33m,\u001b[0m \u001b[0meval_metric\u001b[0m\u001b[1;33m=\u001b[0m\u001b[1;34m'logloss'\u001b[0m\u001b[1;33m)\u001b[0m\u001b[1;33m\u001b[0m\u001b[1;33m\u001b[0m\u001b[0m\n\u001b[0m\u001b[0;32m     12\u001b[0m \u001b[1;33m\u001b[0m\u001b[0m\n\u001b[0;32m     13\u001b[0m \u001b[0mnp\u001b[0m\u001b[1;33m.\u001b[0m\u001b[0munique\u001b[0m\u001b[1;33m(\u001b[0m \u001b[0my_val\u001b[0m\u001b[1;33m[\u001b[0m\u001b[1;33m:\u001b[0m\u001b[1;33m,\u001b[0m\u001b[0midx\u001b[0m\u001b[1;33m]\u001b[0m\u001b[1;33m)\u001b[0m\u001b[1;33m\u001b[0m\u001b[1;33m\u001b[0m\u001b[0m\n",
      "\u001b[1;31mTypeError\u001b[0m: fit() got an unexpected keyword argument 'objective'"
     ]
    }
   ],
   "source": [
    "from xgboost import XGBClassifier\n",
    "from sklearn.metrics import roc_auc_score\n",
    "\n",
    "tt = TwitterTransform()\n",
    "tt.fit(df_og)\n",
    "x_train, y_train = tt.transform(df_og)\n",
    "x_val,y_val = tt.transform(train[0])\n",
    "\n",
    "idx = engagement['like']\n",
    "xgb = XGBClassifier()\n",
    "xgb.fit(x_train, y_train[:,idx], eval_set=[(x_val, y_val[:,idx])], objective='binary:logistic', eval_metric='logloss')\n",
    "\n",
    "np.unique( y_val[:,idx])"
   ]
  },
  {
   "cell_type": "code",
   "execution_count": 30,
   "metadata": {},
   "outputs": [
    {
     "name": "stdout",
     "output_type": "stream",
     "text": [
      "GENERAL STATS Train_0\n",
      "number of tweets: 1000000\n",
      "number of unique media: 11\n",
      "number of unique language: 65\n",
      "number of unique EWUF users: 550983\n",
      "number of unique EUF users: 857416\n",
      "\n",
      "NUMBER OF ENGAGEMENTS Train_0\n",
      "number of replies: 26725 0.026725\n",
      "number of retweets: 111471 0.111471\n",
      "number of retweet comments: 7577 0.007577\n",
      "number of likes 438003 0.438003\n",
      "------------------------------------------------------------\n",
      "\n",
      "GENERAL STATS Train_1\n",
      "number of tweets: 1000000\n",
      "number of unique media: 10\n",
      "number of unique language: 64\n",
      "number of unique EWUF users: 552206\n",
      "number of unique EUF users: 857431\n",
      "\n",
      "NUMBER OF ENGAGEMENTS Train_1\n",
      "number of replies: 26138 0.026138\n",
      "number of retweets: 111214 0.111214\n",
      "number of retweet comments: 7576 0.007576\n",
      "number of likes 437455 0.437455\n",
      "------------------------------------------------------------\n",
      "\n",
      "GENERAL STATS Train_2\n",
      "number of tweets: 1000000\n",
      "number of unique media: 11\n",
      "number of unique language: 64\n",
      "number of unique EWUF users: 551302\n",
      "number of unique EUF users: 858209\n",
      "\n",
      "NUMBER OF ENGAGEMENTS Train_2\n",
      "number of replies: 26427 0.026427\n",
      "number of retweets: 111407 0.111407\n",
      "number of retweet comments: 7560 0.00756\n",
      "number of likes 436904 0.436904\n",
      "------------------------------------------------------------\n",
      "\n",
      "GENERAL STATS Train_3\n",
      "number of tweets: 1000000\n",
      "number of unique media: 14\n",
      "number of unique language: 65\n",
      "number of unique EWUF users: 551748\n",
      "number of unique EUF users: 858130\n",
      "\n",
      "NUMBER OF ENGAGEMENTS Train_3\n",
      "number of replies: 26493 0.026493\n",
      "number of retweets: 111808 0.111808\n",
      "number of retweet comments: 7712 0.007712\n",
      "number of likes 436736 0.436736\n",
      "------------------------------------------------------------\n",
      "\n"
     ]
    }
   ],
   "source": [
    "for i in range(4):\n",
    "    print_stats_df(train[i], name='Train_{}'.format(i))"
   ]
  },
  {
   "cell_type": "code",
   "execution_count": null,
   "metadata": {},
   "outputs": [],
   "source": []
  },
  {
   "cell_type": "code",
   "execution_count": null,
   "metadata": {},
   "outputs": [],
   "source": []
  },
  {
   "cell_type": "code",
   "execution_count": null,
   "metadata": {},
   "outputs": [],
   "source": []
  },
  {
   "cell_type": "code",
   "execution_count": 77,
   "metadata": {},
   "outputs": [],
   "source": [
    "df = pd.read_pickle(\"train_2.pkl\")"
   ]
  },
  {
   "cell_type": "code",
   "execution_count": 78,
   "metadata": {},
   "outputs": [
    {
     "data": {
      "text/plain": [
       "Index(['text_ tokens', 'hashtags', 'tweet_id', 'present_media',\n",
       "       'present_links', 'present_domains', 'tweet_type', 'language',\n",
       "       'tweet_timestamp', 'engaged_with_user_id',\n",
       "       'engaged_with_user_follower_count', 'engaged_with_user_following_count',\n",
       "       'engaged_with_user_is_verified', 'engaged_with_user_account_creation',\n",
       "       'enaging_user_id', 'enaging_user_follower_count',\n",
       "       'enaging_user_following_count', 'enaging_user_is_verified',\n",
       "       'enaging_user_account_creation', 'engagee_follows_engager',\n",
       "       'reply_timestamp', 'retweet_timestamp',\n",
       "       'retweet_with_comment_timestamp', 'like_timestamp'],\n",
       "      dtype='object')"
      ]
     },
     "execution_count": 78,
     "metadata": {},
     "output_type": "execute_result"
    }
   ],
   "source": [
    "df.columns"
   ]
  },
  {
   "cell_type": "code",
   "execution_count": 146,
   "metadata": {},
   "outputs": [
    {
     "data": {
      "text/html": [
       "<div>\n",
       "<style scoped>\n",
       "    .dataframe tbody tr th:only-of-type {\n",
       "        vertical-align: middle;\n",
       "    }\n",
       "\n",
       "    .dataframe tbody tr th {\n",
       "        vertical-align: top;\n",
       "    }\n",
       "\n",
       "    .dataframe thead th {\n",
       "        text-align: right;\n",
       "    }\n",
       "</style>\n",
       "<table border=\"1\" class=\"dataframe\">\n",
       "  <thead>\n",
       "    <tr style=\"text-align: right;\">\n",
       "      <th></th>\n",
       "      <th>enaging_user_follower_count</th>\n",
       "    </tr>\n",
       "    <tr>\n",
       "      <th>enaging_user_id</th>\n",
       "      <th></th>\n",
       "    </tr>\n",
       "  </thead>\n",
       "  <tbody>\n",
       "    <tr>\n",
       "      <td>617B49663373F607A9BEEDCAC8EB72D4</td>\n",
       "      <td>1339.0</td>\n",
       "    </tr>\n",
       "    <tr>\n",
       "      <td>617B4B570931E74EFA55E56F21C0F03C</td>\n",
       "      <td>212.0</td>\n",
       "    </tr>\n",
       "    <tr>\n",
       "      <td>617B50FA57962BEFB967E522290FCB61</td>\n",
       "      <td>180.0</td>\n",
       "    </tr>\n",
       "    <tr>\n",
       "      <td>617B52B304B8143A2047D21555CD38BC</td>\n",
       "      <td>344.0</td>\n",
       "    </tr>\n",
       "    <tr>\n",
       "      <td>617B5416240E311EE6EC5B339834E565</td>\n",
       "      <td>206.0</td>\n",
       "    </tr>\n",
       "    <tr>\n",
       "      <td>...</td>\n",
       "      <td>...</td>\n",
       "    </tr>\n",
       "    <tr>\n",
       "      <td>924FBBFBC73A6F11CBF1AE7B84199F58</td>\n",
       "      <td>134.0</td>\n",
       "    </tr>\n",
       "    <tr>\n",
       "      <td>924FBCAD5C8D85DC11021E47D4456E91</td>\n",
       "      <td>381.0</td>\n",
       "    </tr>\n",
       "    <tr>\n",
       "      <td>924FD0B26504F64F82EDD8263CAED63E</td>\n",
       "      <td>63.0</td>\n",
       "    </tr>\n",
       "    <tr>\n",
       "      <td>924FD297247AB752605124E47C33F203</td>\n",
       "      <td>181.0</td>\n",
       "    </tr>\n",
       "    <tr>\n",
       "      <td>924FD67D060BF8A4CA4F6280B9C2ED1A</td>\n",
       "      <td>392.0</td>\n",
       "    </tr>\n",
       "  </tbody>\n",
       "</table>\n",
       "<p>858209 rows × 1 columns</p>\n",
       "</div>"
      ],
      "text/plain": [
       "                                  enaging_user_follower_count\n",
       "enaging_user_id                                              \n",
       "617B49663373F607A9BEEDCAC8EB72D4                       1339.0\n",
       "617B4B570931E74EFA55E56F21C0F03C                        212.0\n",
       "617B50FA57962BEFB967E522290FCB61                        180.0\n",
       "617B52B304B8143A2047D21555CD38BC                        344.0\n",
       "617B5416240E311EE6EC5B339834E565                        206.0\n",
       "...                                                       ...\n",
       "924FBBFBC73A6F11CBF1AE7B84199F58                        134.0\n",
       "924FBCAD5C8D85DC11021E47D4456E91                        381.0\n",
       "924FD0B26504F64F82EDD8263CAED63E                         63.0\n",
       "924FD297247AB752605124E47C33F203                        181.0\n",
       "924FD67D060BF8A4CA4F6280B9C2ED1A                        392.0\n",
       "\n",
       "[858209 rows x 1 columns]"
      ]
     },
     "execution_count": 146,
     "metadata": {},
     "output_type": "execute_result"
    }
   ],
   "source": [
    "grouped = df.groupby([\"enaging_user_id\"]).agg({\"enaging_user_follower_count\": \"mean\"})\n",
    "grouped"
   ]
  },
  {
   "cell_type": "code",
   "execution_count": 147,
   "metadata": {},
   "outputs": [
    {
     "data": {
      "text/plain": [
       "<matplotlib.axes._subplots.AxesSubplot at 0x1b9a403d0>"
      ]
     },
     "execution_count": 147,
     "metadata": {},
     "output_type": "execute_result"
    },
    {
     "data": {
      "image/png": "[encoded data removed]",
      "text/plain": [
       "<Figure size 432x288 with 1 Axes>"
      ]
     },
     "metadata": {
      "needs_background": "light"
     },
     "output_type": "display_data"
    }
   ],
   "source": [
    "grouped[\"enaging_user_follower_count\"].hist()"
   ]
  },
  {
   "cell_type": "code",
   "execution_count": 135,
   "metadata": {},
   "outputs": [
    {
     "data": {
      "text/plain": [
       "858209"
      ]
     },
     "execution_count": 135,
     "metadata": {},
     "output_type": "execute_result"
    }
   ],
   "source": [
    "total = grouped.shape[0]\n",
    "total"
   ]
  },
  {
   "cell_type": "code",
   "execution_count": 154,
   "metadata": {},
   "outputs": [],
   "source": [
    "filtered = grouped[grouped[\"enaging_user_follower_count\"]<1e4]"
   ]
  },
  {
   "cell_type": "code",
   "execution_count": 155,
   "metadata": {},
   "outputs": [
    {
     "data": {
      "text/plain": [
       "array([[<matplotlib.axes._subplots.AxesSubplot object at 0x1ba226850>]],\n",
       "      dtype=object)"
      ]
     },
     "execution_count": 155,
     "metadata": {},
     "output_type": "execute_result"
    },
    {
     "data": {
      "image/png": "[encoded data removed]",
      "text/plain": [
       "<Figure size 432x288 with 1 Axes>"
      ]
     },
     "metadata": {
      "needs_background": "light"
     },
     "output_type": "display_data"
    }
   ],
   "source": [
    "filtered.hist(bins=5)"
   ]
  },
  {
   "cell_type": "code",
   "execution_count": 93,
   "metadata": {},
   "outputs": [],
   "source": [
    "hist, bins = np.histogram(filtered[\"engaged_with_user_follower_count\"], bins=5)"
   ]
  },
  {
   "cell_type": "code",
   "execution_count": 102,
   "metadata": {},
   "outputs": [
    {
     "data": {
      "text/plain": [
       "array([1.00000000e+00, 1.99984233e+05, 3.99967467e+05, 5.99950700e+05,\n",
       "       7.99933933e+05, 9.99917167e+05])"
      ]
     },
     "execution_count": 102,
     "metadata": {},
     "output_type": "execute_result"
    }
   ],
   "source": [
    "bins"
   ]
  },
  {
   "cell_type": "code",
   "execution_count": 100,
   "metadata": {},
   "outputs": [],
   "source": [
    "for i in range(5):\n",
    "    f = bins[i]\n",
    "    t = bins[i+1]\n",
    "    values = df[\"engaged_with_user_follower_count\"]\n",
    "    df[\"ew_follwer_bin_{}\".format(i)] = np.where((f<=values) & (values<t), 1 ,0 )"
   ]
  },
  {
   "cell_type": "code",
   "execution_count": 101,
   "metadata": {},
   "outputs": [
    {
     "data": {
      "text/html": [
       "<div>\n",
       "<style scoped>\n",
       "    .dataframe tbody tr th:only-of-type {\n",
       "        vertical-align: middle;\n",
       "    }\n",
       "\n",
       "    .dataframe tbody tr th {\n",
       "        vertical-align: top;\n",
       "    }\n",
       "\n",
       "    .dataframe thead th {\n",
       "        text-align: right;\n",
       "    }\n",
       "</style>\n",
       "<table border=\"1\" class=\"dataframe\">\n",
       "  <thead>\n",
       "    <tr style=\"text-align: right;\">\n",
       "      <th></th>\n",
       "      <th>ew_follwer_bin_0</th>\n",
       "      <th>ew_follwer_bin_1</th>\n",
       "      <th>ew_follwer_bin_2</th>\n",
       "      <th>ew_follwer_bin_3</th>\n",
       "      <th>ew_follwer_bin_4</th>\n",
       "    </tr>\n",
       "  </thead>\n",
       "  <tbody>\n",
       "    <tr>\n",
       "      <td>0</td>\n",
       "      <td>1</td>\n",
       "      <td>0</td>\n",
       "      <td>0</td>\n",
       "      <td>0</td>\n",
       "      <td>0</td>\n",
       "    </tr>\n",
       "    <tr>\n",
       "      <td>1</td>\n",
       "      <td>0</td>\n",
       "      <td>0</td>\n",
       "      <td>1</td>\n",
       "      <td>0</td>\n",
       "      <td>0</td>\n",
       "    </tr>\n",
       "    <tr>\n",
       "      <td>2</td>\n",
       "      <td>1</td>\n",
       "      <td>0</td>\n",
       "      <td>0</td>\n",
       "      <td>0</td>\n",
       "      <td>0</td>\n",
       "    </tr>\n",
       "    <tr>\n",
       "      <td>3</td>\n",
       "      <td>0</td>\n",
       "      <td>0</td>\n",
       "      <td>0</td>\n",
       "      <td>0</td>\n",
       "      <td>0</td>\n",
       "    </tr>\n",
       "    <tr>\n",
       "      <td>4</td>\n",
       "      <td>1</td>\n",
       "      <td>0</td>\n",
       "      <td>0</td>\n",
       "      <td>0</td>\n",
       "      <td>0</td>\n",
       "    </tr>\n",
       "    <tr>\n",
       "      <td>...</td>\n",
       "      <td>...</td>\n",
       "      <td>...</td>\n",
       "      <td>...</td>\n",
       "      <td>...</td>\n",
       "      <td>...</td>\n",
       "    </tr>\n",
       "    <tr>\n",
       "      <td>999995</td>\n",
       "      <td>1</td>\n",
       "      <td>0</td>\n",
       "      <td>0</td>\n",
       "      <td>0</td>\n",
       "      <td>0</td>\n",
       "    </tr>\n",
       "    <tr>\n",
       "      <td>999996</td>\n",
       "      <td>0</td>\n",
       "      <td>1</td>\n",
       "      <td>0</td>\n",
       "      <td>0</td>\n",
       "      <td>0</td>\n",
       "    </tr>\n",
       "    <tr>\n",
       "      <td>999997</td>\n",
       "      <td>0</td>\n",
       "      <td>0</td>\n",
       "      <td>1</td>\n",
       "      <td>0</td>\n",
       "      <td>0</td>\n",
       "    </tr>\n",
       "    <tr>\n",
       "      <td>999998</td>\n",
       "      <td>1</td>\n",
       "      <td>0</td>\n",
       "      <td>0</td>\n",
       "      <td>0</td>\n",
       "      <td>0</td>\n",
       "    </tr>\n",
       "    <tr>\n",
       "      <td>999999</td>\n",
       "      <td>1</td>\n",
       "      <td>0</td>\n",
       "      <td>0</td>\n",
       "      <td>0</td>\n",
       "      <td>0</td>\n",
       "    </tr>\n",
       "  </tbody>\n",
       "</table>\n",
       "<p>1000000 rows × 5 columns</p>\n",
       "</div>"
      ],
      "text/plain": [
       "        ew_follwer_bin_0  ew_follwer_bin_1  ew_follwer_bin_2  \\\n",
       "0                      1                 0                 0   \n",
       "1                      0                 0                 1   \n",
       "2                      1                 0                 0   \n",
       "3                      0                 0                 0   \n",
       "4                      1                 0                 0   \n",
       "...                  ...               ...               ...   \n",
       "999995                 1                 0                 0   \n",
       "999996                 0                 1                 0   \n",
       "999997                 0                 0                 1   \n",
       "999998                 1                 0                 0   \n",
       "999999                 1                 0                 0   \n",
       "\n",
       "        ew_follwer_bin_3  ew_follwer_bin_4  \n",
       "0                      0                 0  \n",
       "1                      0                 0  \n",
       "2                      0                 0  \n",
       "3                      0                 0  \n",
       "4                      0                 0  \n",
       "...                  ...               ...  \n",
       "999995                 0                 0  \n",
       "999996                 0                 0  \n",
       "999997                 0                 0  \n",
       "999998                 0                 0  \n",
       "999999                 0                 0  \n",
       "\n",
       "[1000000 rows x 5 columns]"
      ]
     },
     "execution_count": 101,
     "metadata": {},
     "output_type": "execute_result"
    }
   ],
   "source": [
    "cols = [\"ew_follwer_bin_{}\".format(i) for i in range(5)]\n",
    "df[cols]"
   ]
  },
  {
   "cell_type": "code",
   "execution_count": null,
   "metadata": {},
   "outputs": [],
   "source": [
    "# group: engaged_with_user_id, engaged_with_user_follower_count, outlier 1e6\n",
    "# group: engaged_with_user_id, engaged_with_user_following_count, outlier 1e4\n",
    "# group: enaging_user_id, enaging_user_following_count, outlier 8e3\n",
    "# group: enaging_user_id, enaging_user_follower_count, outlier 1e4\n",
    "\n",
    "def following_class_group(df, group_column, follow_column, outlier, bins_count=5):\n",
    "    grouped = df.groupby([group_column]).agg({follow_column: \"mean\"})\n",
    "    filtered = grouped[grouped[follow_column]<outlier]\n",
    "    hist, bins = np.histogram(filtered[follow_column], bins=bins_count)\n",
    "    values = df[follow_column]                         \n",
    "    for i in range(bins_count):\n",
    "        f = bins[i]\n",
    "        t = bins[i+1]\n",
    "        df[\"ew_follwer_bin_{}\".format(i)] = np.where((f<=values) & (values<t), 1 ,0 )"
   ]
  }
 ],
 "metadata": {
  "kernelspec": {
   "display_name": "ML",
   "language": "python",
   "name": "ml"
  },
  "language_info": {
   "codemirror_mode": {
    "name": "ipython",
    "version": 3
   },
   "file_extension": ".py",
   "mimetype": "text/x-python",
   "name": "python",
   "nbconvert_exporter": "python",
   "pygments_lexer": "ipython3",
   "version": "3.7.4"
  }
 },
 "nbformat": 4,
 "nbformat_minor": 4
}
