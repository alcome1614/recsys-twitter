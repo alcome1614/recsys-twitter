{
 "cells": [
  {
   "cell_type": "markdown",
   "metadata": {},
   "source": [
    "# Rec-Sys Challenge\n",
    "### Authors: Emilio Tylson Baixauli, Alfons Cordoba Meneses, and Bernat Esquirol Juanola"
   ]
  },
  {
   "cell_type": "markdown",
   "metadata": {},
   "source": [
    "# Dataset Analysis\n",
    "\n",
    "Due to the large size dataset (about 80Gb) we decided to extract subsets to work in that capture the whole diversity of the dataset. For that objective, we extracted four subsets of 1M rows. Following we briefly explore some stadistics of those datasets.\n"
   ]
  },
  {
   "cell_type": "code",
   "execution_count": 1,
   "metadata": {},
   "outputs": [],
   "source": [
    "import numpy as np\n",
    "import pandas as pd\n",
    "#function that prints some general stats of a dataframe\n",
    "def print_stats_df(df, name=''):\n",
    "    n_tweets = len(df)\n",
    "    print('GENERAL STATS '+name)\n",
    "    print('number of tweets:', n_tweets)\n",
    "    print('number of unique media:', df['present_media'].nunique() )\n",
    "    print('number of unique language:', df['language'].nunique() )\n",
    "    print('number of unique EWUF users:', df[\"engaged_with_user_id\"].nunique() )\n",
    "    print('number of unique EUF users:', df[\"enaging_user_id\"].nunique() )\n",
    "\n",
    "    labels = [\"reply_timestamp\",\"retweet_timestamp\",\"retweet_with_comment_timestamp\",\"like_timestamp\"]\n",
    "    is_y = all([label in df.columns for label in labels])\n",
    "    if is_y:\n",
    "        print('\\nNUMBER OF ENGAGEMENTS '+name)\n",
    "        print('number of replies:',n_tweets - df['reply_timestamp'].isna().sum(), (n_tweets - df['reply_timestamp'].isna().sum())/n_tweets)\n",
    "        print('number of retweets:', n_tweets - df['retweet_timestamp'].isna().sum(), (n_tweets - df['retweet_timestamp'].isna().sum() )/n_tweets )\n",
    "        print('number of retweet comments:',n_tweets - df[\"retweet_with_comment_timestamp\"].isna().sum(), (n_tweets - df[\"retweet_with_comment_timestamp\"].isna().sum())/n_tweets)\n",
    "        print('number of likes',n_tweets - df['like_timestamp'].isna().sum(), (n_tweets - df['like_timestamp'].isna().sum())/n_tweets)\n",
    "    print('------------------------------------------------------------')  \n",
    "    print()    "
   ]
  },
  {
   "cell_type": "code",
   "execution_count": 4,
   "metadata": {},
   "outputs": [
    {
     "name": "stdout",
     "output_type": "stream",
     "text": [
      "GENERAL STATS Train\n",
      "number of tweets: 1000000\n",
      "number of unique media: 11\n",
      "number of unique language: 65\n",
      "number of unique EWUF users: 550983\n",
      "number of unique EUF users: 857416\n",
      "\n",
      "NUMBER OF ENGAGEMENTS Train\n",
      "number of replies: 26725 0.026725\n",
      "number of retweets: 111471 0.111471\n",
      "number of retweet comments: 7577 0.007577\n",
      "number of likes 438003 0.438003\n",
      "------------------------------------------------------------\n",
      "\n",
      "GENERAL STATS Train\n",
      "number of tweets: 1000000\n",
      "number of unique media: 10\n",
      "number of unique language: 64\n",
      "number of unique EWUF users: 552206\n",
      "number of unique EUF users: 857431\n",
      "\n",
      "NUMBER OF ENGAGEMENTS Train\n",
      "number of replies: 26138 0.026138\n",
      "number of retweets: 111214 0.111214\n",
      "number of retweet comments: 7576 0.007576\n",
      "number of likes 437455 0.437455\n",
      "------------------------------------------------------------\n",
      "\n",
      "GENERAL STATS Train\n",
      "number of tweets: 1000000\n",
      "number of unique media: 11\n",
      "number of unique language: 64\n",
      "number of unique EWUF users: 551302\n",
      "number of unique EUF users: 858209\n",
      "\n",
      "NUMBER OF ENGAGEMENTS Train\n",
      "number of replies: 26427 0.026427\n",
      "number of retweets: 111407 0.111407\n",
      "number of retweet comments: 7560 0.00756\n",
      "number of likes 436904 0.436904\n",
      "------------------------------------------------------------\n",
      "\n",
      "GENERAL STATS Train\n",
      "number of tweets: 1000000\n",
      "number of unique media: 14\n",
      "number of unique language: 65\n",
      "number of unique EWUF users: 551748\n",
      "number of unique EUF users: 858130\n",
      "\n",
      "NUMBER OF ENGAGEMENTS Train\n",
      "number of replies: 26493 0.026493\n",
      "number of retweets: 111808 0.111808\n",
      "number of retweet comments: 7712 0.007712\n",
      "number of likes 436736 0.436736\n",
      "------------------------------------------------------------\n",
      "\n"
     ]
    }
   ],
   "source": [
    "for i in range(4):\n",
    "    df_train = pd.read_pickle('train_{}.pkl'.format(i))\n",
    "    print_stats_df(df_train, name='Train')"
   ]
  },
  {
   "cell_type": "markdown",
   "metadata": {},
   "source": [
    "Observing these statistics, we conclude that the four sub-datasets are similarly conformed. But we also notice that they do not share same users neither hashtags, so it would be difficult to apply recomending scores for the susers."
   ]
  },
  {
   "cell_type": "code",
   "execution_count": 8,
   "metadata": {},
   "outputs": [
    {
     "name": "stdout",
     "output_type": "stream",
     "text": [
      "Engaged_with_user id coincidence  0.140494\n",
      "Engaged_with_user id coincidence  0.140275\n",
      "Engaged_with_user id coincidence  0.139877\n"
     ]
    }
   ],
   "source": [
    "df = pd.read_pickle('train_0.pkl')\n",
    "ew_list = df['engaged_with_user_id'].unique()\n",
    "for i in range(1,4):\n",
    "    df_train = pd.read_pickle('train_{}.pkl'.format(i))\n",
    "    total = df_train.shape[0]\n",
    "    coincidence = len(df_train[df_train['engaged_with_user_id'].isin(ew_list)]['engaged_with_user_id'].unique())\n",
    "    print(\"Engaged_with_user id coincidence \", coincidence/total)"
   ]
  },
  {
   "cell_type": "markdown",
   "metadata": {},
   "source": [
    "### Follower/Following category\n",
    "Therefore, we decide to categorize user by characteristics aspectssuch as followers and followings . We started by ploting histogram of followers and followings fo the \"engaged_with_user\" (who creates the tweet) and the \"engaging_user\" (who could interact or not)."
   ]
  },
  {
   "cell_type": "code",
   "execution_count": 10,
   "metadata": {},
   "outputs": [
    {
     "data": {
      "text/plain": [
       "Index(['text_ tokens', 'hashtags', 'tweet_id', 'present_media',\n",
       "       'present_links', 'present_domains', 'tweet_type', 'language',\n",
       "       'tweet_timestamp', 'engaged_with_user_id',\n",
       "       'engaged_with_user_follower_count', 'engaged_with_user_following_count',\n",
       "       'engaged_with_user_is_verified', 'engaged_with_user_account_creation',\n",
       "       'enaging_user_id', 'enaging_user_follower_count',\n",
       "       'enaging_user_following_count', 'enaging_user_is_verified',\n",
       "       'enaging_user_account_creation', 'engagee_follows_engager',\n",
       "       'reply_timestamp', 'retweet_timestamp',\n",
       "       'retweet_with_comment_timestamp', 'like_timestamp'],\n",
       "      dtype='object')"
      ]
     },
     "execution_count": 10,
     "metadata": {},
     "output_type": "execute_result"
    }
   ],
   "source": [
    "df.columns"
   ]
  },
  {
   "cell_type": "code",
   "execution_count": 13,
   "metadata": {},
   "outputs": [
    {
     "data": {
      "text/plain": [
       "<matplotlib.axes._subplots.AxesSubplot at 0x17198d150>"
      ]
     },
     "execution_count": 13,
     "metadata": {},
     "output_type": "execute_result"
    },
    {
     "data": {
      "image/png": "[encoded data removed]",
      "text/plain": [
       "<Figure size 432x288 with 1 Axes>"
      ]
     },
     "metadata": {
      "needs_background": "light"
     },
     "output_type": "display_data"
    }
   ],
   "source": [
    "grouped = df.groupby([\"engaged_with_user_id\"]).agg({\"engaged_with_user_follower_count\": \"mean\"})\n",
    "grouped[\"engaged_with_user_follower_count\"].hist()"
   ]
  },
  {
   "cell_type": "markdown",
   "metadata": {},
   "source": [
    "The mass of followers are concentrated in the first bin of 1e8 followers. Then we see a long tail ofexception cases with more than 10 million followers"
   ]
  },
  {
   "cell_type": "code",
   "execution_count": 14,
   "metadata": {},
   "outputs": [
    {
     "data": {
      "text/plain": [
       "array([[<matplotlib.axes._subplots.AxesSubplot object at 0x1a3e8a810>]],\n",
       "      dtype=object)"
      ]
     },
     "execution_count": 14,
     "metadata": {},
     "output_type": "execute_result"
    },
    {
     "data": {
      "image/png": "[encoded data removed]",
      "text/plain": [
       "<Figure size 432x288 with 1 Axes>"
      ]
     },
     "metadata": {
      "needs_background": "light"
     },
     "output_type": "display_data"
    }
   ],
   "source": [
    "filtered = grouped[grouped[\"engaged_with_user_follower_count\"]<1e5]\n",
    "filtered.hist()"
   ]
  },
  {
   "cell_type": "markdown",
   "metadata": {},
   "source": [
    "As we filter the \"exceptional\" (outliers) cases and further divide into symmetric bins we se an exponential mass function. This happens to \"engaged_with_user\" and \"engaging_user\". As we wanted to capture small perturbation of followers/following in small scales and ignore perturbation on large scales , we decided to create logaritmic bins. That bins will be the category acording followers and following of each user."
   ]
  },
  {
   "cell_type": "code",
   "execution_count": 15,
   "metadata": {},
   "outputs": [
    {
     "data": {
      "text/plain": [
       "[0, 1, 5, 25, 125, 625, 3125, 15625, 78125, 390625, 1953125, 9765625]"
      ]
     },
     "execution_count": 15,
     "metadata": {},
     "output_type": "execute_result"
    }
   ],
   "source": [
    "bins = [ 5**i for i in range(11) ]\n",
    "bins = [0] + bins\n",
    "bins"
   ]
  },
  {
   "cell_type": "code",
   "execution_count": 16,
   "metadata": {},
   "outputs": [],
   "source": [
    "for i in range(5):\n",
    "    f = bins[i]\n",
    "    t = bins[i+1]\n",
    "    values = df[\"engaged_with_user_follower_count\"]\n",
    "    df[\"ew_follwer_bin_{}\".format(i)] = np.where((f<=values) & (values<t), 1 ,0 )"
   ]
  },
  {
   "cell_type": "code",
   "execution_count": 17,
   "metadata": {},
   "outputs": [
    {
     "data": {
      "text/html": [
       "<div>\n",
       "<style scoped>\n",
       "    .dataframe tbody tr th:only-of-type {\n",
       "        vertical-align: middle;\n",
       "    }\n",
       "\n",
       "    .dataframe tbody tr th {\n",
       "        vertical-align: top;\n",
       "    }\n",
       "\n",
       "    .dataframe thead th {\n",
       "        text-align: right;\n",
       "    }\n",
       "</style>\n",
       "<table border=\"1\" class=\"dataframe\">\n",
       "  <thead>\n",
       "    <tr style=\"text-align: right;\">\n",
       "      <th></th>\n",
       "      <th>ew_follwer_bin_0</th>\n",
       "      <th>ew_follwer_bin_1</th>\n",
       "      <th>ew_follwer_bin_2</th>\n",
       "      <th>ew_follwer_bin_3</th>\n",
       "      <th>ew_follwer_bin_4</th>\n",
       "    </tr>\n",
       "  </thead>\n",
       "  <tbody>\n",
       "    <tr>\n",
       "      <td>0</td>\n",
       "      <td>0</td>\n",
       "      <td>0</td>\n",
       "      <td>0</td>\n",
       "      <td>0</td>\n",
       "      <td>0</td>\n",
       "    </tr>\n",
       "    <tr>\n",
       "      <td>1</td>\n",
       "      <td>0</td>\n",
       "      <td>0</td>\n",
       "      <td>0</td>\n",
       "      <td>0</td>\n",
       "      <td>1</td>\n",
       "    </tr>\n",
       "    <tr>\n",
       "      <td>2</td>\n",
       "      <td>0</td>\n",
       "      <td>0</td>\n",
       "      <td>0</td>\n",
       "      <td>0</td>\n",
       "      <td>1</td>\n",
       "    </tr>\n",
       "    <tr>\n",
       "      <td>3</td>\n",
       "      <td>0</td>\n",
       "      <td>0</td>\n",
       "      <td>0</td>\n",
       "      <td>0</td>\n",
       "      <td>0</td>\n",
       "    </tr>\n",
       "    <tr>\n",
       "      <td>4</td>\n",
       "      <td>0</td>\n",
       "      <td>0</td>\n",
       "      <td>0</td>\n",
       "      <td>0</td>\n",
       "      <td>1</td>\n",
       "    </tr>\n",
       "    <tr>\n",
       "      <td>...</td>\n",
       "      <td>...</td>\n",
       "      <td>...</td>\n",
       "      <td>...</td>\n",
       "      <td>...</td>\n",
       "      <td>...</td>\n",
       "    </tr>\n",
       "    <tr>\n",
       "      <td>999995</td>\n",
       "      <td>0</td>\n",
       "      <td>0</td>\n",
       "      <td>0</td>\n",
       "      <td>0</td>\n",
       "      <td>0</td>\n",
       "    </tr>\n",
       "    <tr>\n",
       "      <td>999996</td>\n",
       "      <td>0</td>\n",
       "      <td>0</td>\n",
       "      <td>0</td>\n",
       "      <td>0</td>\n",
       "      <td>0</td>\n",
       "    </tr>\n",
       "    <tr>\n",
       "      <td>999997</td>\n",
       "      <td>0</td>\n",
       "      <td>0</td>\n",
       "      <td>0</td>\n",
       "      <td>0</td>\n",
       "      <td>0</td>\n",
       "    </tr>\n",
       "    <tr>\n",
       "      <td>999998</td>\n",
       "      <td>0</td>\n",
       "      <td>0</td>\n",
       "      <td>0</td>\n",
       "      <td>0</td>\n",
       "      <td>0</td>\n",
       "    </tr>\n",
       "    <tr>\n",
       "      <td>999999</td>\n",
       "      <td>0</td>\n",
       "      <td>0</td>\n",
       "      <td>0</td>\n",
       "      <td>0</td>\n",
       "      <td>0</td>\n",
       "    </tr>\n",
       "  </tbody>\n",
       "</table>\n",
       "<p>1000000 rows × 5 columns</p>\n",
       "</div>"
      ],
      "text/plain": [
       "        ew_follwer_bin_0  ew_follwer_bin_1  ew_follwer_bin_2  \\\n",
       "0                      0                 0                 0   \n",
       "1                      0                 0                 0   \n",
       "2                      0                 0                 0   \n",
       "3                      0                 0                 0   \n",
       "4                      0                 0                 0   \n",
       "...                  ...               ...               ...   \n",
       "999995                 0                 0                 0   \n",
       "999996                 0                 0                 0   \n",
       "999997                 0                 0                 0   \n",
       "999998                 0                 0                 0   \n",
       "999999                 0                 0                 0   \n",
       "\n",
       "        ew_follwer_bin_3  ew_follwer_bin_4  \n",
       "0                      0                 0  \n",
       "1                      0                 1  \n",
       "2                      0                 1  \n",
       "3                      0                 0  \n",
       "4                      0                 1  \n",
       "...                  ...               ...  \n",
       "999995                 0                 0  \n",
       "999996                 0                 0  \n",
       "999997                 0                 0  \n",
       "999998                 0                 0  \n",
       "999999                 0                 0  \n",
       "\n",
       "[1000000 rows x 5 columns]"
      ]
     },
     "execution_count": 17,
     "metadata": {},
     "output_type": "execute_result"
    }
   ],
   "source": [
    "cols = [\"ew_follwer_bin_{}\".format(i) for i in range(5)]\n",
    "df[cols]"
   ]
  },
  {
   "cell_type": "markdown",
   "metadata": {},
   "source": [
    "### Scores"
   ]
  },
  {
   "cell_type": "markdown",
   "metadata": {},
   "source": [
    "# Transformer and trining"
   ]
  },
  {
   "cell_type": "markdown",
   "metadata": {},
   "source": [
    "We coded beformentioned anlyis into TwitterTransform object. This object has a fit method that learns stadistics of a dataframe and use a transform method for extracting features of the dataframe."
   ]
  },
  {
   "cell_type": "code",
   "execution_count": null,
   "metadata": {},
   "outputs": [],
   "source": [
    "from sklearn.preprocessing import StandardScaler\n",
    "import re\n",
    "\n",
    "\n",
    "\n",
    "def set_follow_grouop(df, follow_column, bins_count): \n",
    "    bins = [ 5**i for i in range(bins_count) ]\n",
    "    bins = [0] + bins\n",
    "    bins\n",
    "    values = df[follow_column]       \n",
    "    columns = []\n",
    "    for i in range(len(bins)-1):\n",
    "        f = bins[i]\n",
    "        t = bins[i+1]\n",
    "        column_name = \"{}_bin_{}\".format(follow_column, i)\n",
    "        df[column_name] = np.where((f<=values) & (values<t), 1 ,0 )\n",
    "        columns.append(column_name)\n",
    "        \n",
    "        \n",
    "class TwitterTransform:\n",
    "    \"\"\"takes a df and cleans it to be used as input of a model in matrix form\"\"\"\n",
    "    \n",
    "    def __init__(self, lang_tol=0):\n",
    "\n",
    "        self.ss = StandardScaler()\n",
    "        self.lang_tol = lang_tol\n",
    "        self.list_languages = []\n",
    "        self.selection_to_standarize = [\"engaged_with_user_follower_count\",\"engaged_with_user_following_count\",\n",
    "                                        \"enaging_user_follower_count\", \"enaging_user_following_count\"]\n",
    "        self.selection_to_boolean = [\"engaged_with_user_is_verified\", \"enaging_user_is_verified\", \n",
    "                                     \"engagee_follows_engager\"]\n",
    "        self.tweet_types =  ['Retweet', 'Quote', 'Reply', 'Toplevel']\n",
    "        self.labels = [\"reply_timestamp\",\"retweet_timestamp\",\"retweet_with_comment_timestamp\",\"like_timestamp\"]\n",
    "        self.bins_count = 11\n",
    "        self.follow_class_columns = [ \n",
    "            \"engaged_with_user_follower_count\",\n",
    "            \"engaged_with_user_following_count\",\n",
    "            \"enaging_user_following_count\",\n",
    "            \"enaging_user_follower_count\",            \n",
    "        ]\n",
    "          \n",
    "    def fit(self, df):\n",
    "        ##X\n",
    "        #STANDARIZATION OF FOLLOWERS COUNTS(fit)\n",
    "        self.ss.fit(df[self.selection_to_standarize])\n",
    "        \n",
    "        #Create lisf of languages\n",
    "        language_series = df.language.value_counts()/len(df)\n",
    "        self.list_languages = language_series[language_series > self.lang_tol].tolist()\n",
    "        \n",
    "        \n",
    "    def transform(self,df):\n",
    "        #STANDARIZATION OF FOLLOWERS COUNTS(transform)\n",
    "        x = df[self.selection_to_standarize]\n",
    "        x_cols = x.columns\n",
    "        x = pd.DataFrame(data = self.ss.transform(x), columns = x_cols)\n",
    "               \n",
    "        #OneHot encoding of Languages\n",
    "        for lang in self.list_languages:\n",
    "            x[lang] = df['language'].apply(lambda x: 1 if (x==lang) else 0)\n",
    "        \n",
    "        #OneHot encoding tweet_type\n",
    "        for types in self.tweet_types:\n",
    "            x[types] = df['tweet_type'].apply(lambda x: 1 if (x==types) else 0) \n",
    "#         x = pd.concat([x, pd.get_dummies(df['tweet_type'])], axis=1)\n",
    "                \n",
    "        #OneHot encoding present_media\n",
    "        x['present_media'] = df['present_media'].apply(lambda x: re.split('\\t', x)  if (type(x)==str) else [] )\n",
    "        for media in ['Photo','Video','GIF']:\n",
    "            x[media] =  x.present_media.apply(lambda x:  1 if (media  in x) else 0)\n",
    "        x = x.drop('present_media', axis=1)\n",
    "                   \n",
    "        #(True/False)Boolean to (1/0)Boolean\n",
    "        x = pd.concat( [ x, df[self.selection_to_boolean].astype(int)], axis=1 )\n",
    "  \n",
    "        #FOLLOW CLASS\n",
    "        for follow_column in self.follow_class_columns:\n",
    "            set_follow_grouop(x, follow_column, self.bins_count)\n",
    "            x.drop([follow_column],axis=1, inplace=True)\n",
    "            \n",
    "        #NUMBER/NaN or BOOLEAN TO INTEGER BOOLEAN(1/0) \n",
    "        is_y = all([label in df.columns for label in self.labels])\n",
    "        \n",
    "        if is_y:\n",
    "            y = df[self.labels].notna().astype(int)\n",
    "            return x.values, y.values\n",
    "        else:\n",
    "            return x.values\n",
    "        \n",
    "                                          \n",
    "                                \n",
    "                                          \n",
    "                                        "
   ]
  },
  {
   "cell_type": "code",
   "execution_count": 18,
   "metadata": {},
   "outputs": [],
   "source": [
    "from sklearn.metrics import precision_recall_curve, auc, log_loss\n",
    "\n",
    "def compute_prauc(pred, gt):\n",
    "    prec, recall, thresh = precision_recall_curve(gt, pred)\n",
    "    prauc = auc(recall, prec)\n",
    "    return prauc\n",
    "\n",
    "def calculate_ctr(gt):\n",
    "    positive = len([x for x in gt if x == 1])\n",
    "    ctr = positive/float(len(gt))\n",
    "    return ctr\n",
    "\n",
    "def compute_rce(pred, gt):\n",
    "    cross_entropy = log_loss(gt, pred)\n",
    "    data_ctr = calculate_ctr(gt)\n",
    "    strawman_cross_entropy = log_loss(gt, [data_ctr for _ in range(len(gt))])\n",
    "    return (1.0 - cross_entropy/strawman_cross_entropy)*100.0\n"
   ]
  },
  {
   "cell_type": "code",
   "execution_count": 19,
   "metadata": {},
   "outputs": [],
   "source": [
    "from sklearn.metrics import accuracy_score, balanced_accuracy_score, f1_score, roc_auc_score, log_loss\n",
    "from xgboost import XGBClassifier\n",
    "\n",
    "def model_scores(x_train, y_train, x_test, y_test, model='default'):\n",
    "#     list = ['replay','retweet', 'retweet_comment', 'like']\n",
    "\n",
    "    if model=='default':\n",
    "        model = XGBClassifier()\n",
    "    model.fit(x_train,y_train)\n",
    "\n",
    "    ytrue = y_train\n",
    "    ypred = model.predict(x_train)\n",
    "    train = [log_loss(ytrue, ypred), roc_auc_score(ytrue, ypred)]\n",
    "    train = np.array(train)\n",
    " \n",
    "    ytrue = y_test\n",
    "    ypred = model.predict(x_test)\n",
    "    test = [log_loss(ytrue, ypred), roc_auc_score(ytrue, ypred)]\n",
    "    test = np.array(test)\n",
    " \n",
    "    return train, test\n",
    "#     print('\\n'.join([' '.join([name[:5]]+['{:.4f}'.format(score) for score in engage]) for engage,name in zip(train,engagement_list)]))\n",
    "\n",
    "\n",
    "def print_scores(matrix, name='METRICS'):\n",
    "    engagement_list = ['replay      ','retweet      ', 'retweet_comment     ', 'like      ']\n",
    "    score_list = ['log_loss', 'roc_auc']\n",
    "    print(name+' log_loss   roc_auc')\n",
    "    print('\\n'.join([' '.join([name[:10]]+['{:.4f}'.format(score) for score in engage]) for engage,name in zip(matrix,engagement_list)]))\n",
    "    print()\n",
    "    return"
   ]
  },
  {
   "cell_type": "code",
   "execution_count": null,
   "metadata": {},
   "outputs": [],
   "source": [
    "df_og = pd.read_pickle('train_0.pkl')"
   ]
  },
  {
   "cell_type": "code",
   "execution_count": null,
   "metadata": {},
   "outputs": [],
   "source": [
    "train = {}\n",
    "for i in range(4):\n",
    "    train[i] = pd.read_pickle('train_{}.pkl'.format(i))"
   ]
  },
  {
   "cell_type": "code",
   "execution_count": null,
   "metadata": {},
   "outputs": [],
   "source": [
    "engagement = {}\n",
    "label_list = ['reply','retweet', 'retweet_with_comment', 'like']\n",
    "\n",
    "for i in range(len(label_list)):\n",
    "    engagement[label_list[i]] = i\n",
    "engagement"
   ]
  },
  {
   "cell_type": "code",
   "execution_count": null,
   "metadata": {},
   "outputs": [],
   "source": [
    "from xgboost import XGBClassifier\n",
    "from sklearn.metrics import roc_auc_score\n",
    "\n",
    "tt = TwitterTransform()\n",
    "tt.fit(df_og)\n",
    "x_train, y_train = tt.transform(df_og)\n",
    "\n",
    "for label in label_list:\n",
    "    print(label)\n",
    "    idx = engagement[label]\n",
    "\n",
    "    xgb = XGBClassifier()\n",
    "    xgb.fit(x_train, y_train[:,idx])\n",
    "\n",
    "    gt = {}\n",
    "    pred = {}\n",
    "    \n",
    "    i=2\n",
    "    x_val,y_val = tt.transform(train[i])\n",
    "    gt[i] = y_val[:,idx]\n",
    "    y_pred = xgb.predict(x_val)\n",
    "#         y_pred = np.zeros(gt[i].shape)\n",
    "    pred[i] = y_pred\n",
    "    prauc = compute_prauc(pred[i], gt[i])\n",
    "    rce = compute_rce(pred[i], gt[i])\n",
    "    roc = roc_auc_score( gt[i],pred[i])\n",
    "    print('{}>>> PRAUC:{:.4f} RCE:{:.4f} ROCAUC:{:.4f}'.format(i,prauc, rce, roc))"
   ]
  }
 ],
 "metadata": {
  "kernelspec": {
   "display_name": "ML",
   "language": "python",
   "name": "ml"
  },
  "language_info": {
   "codemirror_mode": {
    "name": "ipython",
    "version": 3
   },
   "file_extension": ".py",
   "mimetype": "text/x-python",
   "name": "python",
   "nbconvert_exporter": "python",
   "pygments_lexer": "ipython3",
   "version": "3.7.4"
  }
 },
 "nbformat": 4,
 "nbformat_minor": 4
}
