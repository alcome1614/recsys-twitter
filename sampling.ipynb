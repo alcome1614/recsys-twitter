{
 "cells": [
  {
   "cell_type": "code",
   "execution_count": 4,
   "metadata": {},
   "outputs": [],
   "source": [
    "#!/usr/bin/env python\n",
    "# coding: utf-8\n",
    "# %%\n",
    "import pandas as pd\n",
    "import numpy as np\n",
    "from sklearn.model_selection import train_test_split\n",
    "from tqdm import tqdm_notebook\n",
    "import os\n",
    "import zipfile\n",
    "import datetime\n",
    "import xgboost as xgb\n",
    "\n",
    "\n",
    "# %% [markdown]\n",
    "#  ## Load Data\n",
    "\n",
    "# %%\n",
    "def read_data(path, nrows, **kwargs):\n",
    "    columns=[\"text_ tokens\", \"hashtags\", \"tweet_id\", \"present_media\", \"present_links\", \"present_domains\",\n",
    "                \"tweet_type\",\"language\", \"tweet_timestamp\", \"engaged_with_user_id\", \"engaged_with_user_follower_count\",\n",
    "               \"engaged_with_user_following_count\", \"engaged_with_user_is_verified\", \"engaged_with_user_account_creation\",\n",
    "               \"enaging_user_id\", \"enaging_user_follower_count\", \"enaging_user_following_count\", \"enaging_user_is_verified\",\n",
    "               \"enaging_user_account_creation\", \"engagee_follows_engager\",\"reply_timestamp\",\"retweet_timestamp\",\"retweet_with_comment_timestamp\",\"like_timestamp\"]\n",
    "    def dateparse (time_in_secs):   \n",
    "        try:\n",
    "            return datetime.datetime.fromtimestamp(float(time_in_secs))\n",
    "        except:\n",
    "            return np.nan\n",
    "    parse_dates = [c for c in columns if 'timestamp' in c or 'creation' in c]\n",
    "    return pd.read_csv(path, nrows=nrows, sep='\\x01', names=columns, parse_dates=parse_dates, date_parser=dateparse, **kwargs)\n",
    "\n"
   ]
  },
  {
   "cell_type": "code",
   "execution_count": 6,
   "metadata": {},
   "outputs": [],
   "source": [
    "for i in range(4):\n",
    "    training = read_data('training.tsv',skiprows=int(i*1e6), nrows=int(1e6)).to_pickle('train_'+str(i)+'.pkl')"
   ]
  },
  {
   "cell_type": "code",
   "execution_count": null,
   "metadata": {},
   "outputs": [],
   "source": []
  }
 ],
 "metadata": {
  "kernelspec": {
   "display_name": "Python 3",
   "language": "python",
   "name": "python3"
  },
  "language_info": {
   "codemirror_mode": {
    "name": "ipython",
    "version": 3
   },
   "file_extension": ".py",
   "mimetype": "text/x-python",
   "name": "python",
   "nbconvert_exporter": "python",
   "pygments_lexer": "ipython3",
   "version": "3.7.4"
  }
 },
 "nbformat": 4,
 "nbformat_minor": 2
}
